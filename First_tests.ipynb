{
 "cells": [
  {
   "cell_type": "code",
   "execution_count": null,
   "id": "814bd9f2-d273-4771-9599-b739985315ad",
   "metadata": {},
   "outputs": [],
   "source": [
    "%%capture\n",
    "import numpy as np\n",
    "import pandas as pd\n",
    "import matplotlib.pyplot as plt\n",
    "from sklearn.cluster import KMeans\n",
    "from tqdm import tqdm\n",
    "import scipy\n",
    "import scipy.sparse as spa\n",
    "!pip install cvxpy\n",
    "import cvxpy as cp"
   ]
  },
  {
   "cell_type": "code",
   "execution_count": null,
   "id": "8dd75267-2154-42fd-abc3-bc5da3ba40ec",
   "metadata": {},
   "outputs": [],
   "source": [
    "n_samples = 80\n",
    "n = 3*n_samples\n",
    "C = 1"
   ]
  },
  {
   "cell_type": "code",
   "execution_count": null,
   "id": "caa93377-854f-4468-b263-b18403fe7d10",
   "metadata": {},
   "outputs": [],
   "source": [
    "def gaussian_ker(x,y,q):\n",
    "    \"\"\"a function to compute the gaussian kernel of two points\n",
    "    -------------------------------\n",
    "    inputs : \n",
    "\n",
    "    x : array-like, vector\n",
    "    first vector for which we want to compute the kernel\n",
    "\n",
    "    y : array-like, vector\n",
    "    second vector for which we want to compute the kernel\n",
    "\n",
    "    q : positive float,\n",
    "    value of the bandwidth of the kernel\n",
    "\n",
    "    returns:\n",
    "    ker : float,\n",
    "    the value of the kernel\n",
    "    -------------------------------\n",
    "    \"\"\"\n",
    "\n",
    "    ker = np.exp(-q*np.linalg.norm(x-y)**2)\n",
    "    return ker"
   ]
  },
  {
   "cell_type": "code",
   "execution_count": null,
   "id": "d5aab9d1-566c-47d0-8ecc-69ad908f633e",
   "metadata": {},
   "outputs": [],
   "source": [
    "def gram_mat(X,q):\n",
    "    \"\"\"\n",
    "    a function to compute the gram matrix of a given dataset\n",
    "\n",
    "    ----------------------------------------\n",
    "    inputs : \n",
    "    X : array-like object, must be 2D\n",
    "    the data for which we want to compute the gram matrix\n",
    "\n",
    "    q : positive float, \n",
    "    the bandwidth of the gaussian kernel\n",
    "    -----------------------------------------\n",
    "\n",
    "    returns:\n",
    "    K : the gram matrix\n",
    "    \"\"\"\n",
    "    \n",
    "    norms = np.linalg.norm(X, axis=1)**2\n",
    "    dot = X@X.T\n",
    "    squared_euclidian_distances = norms[:, None] - 2 * dot + norms[None, :]\n",
    "    K = np.exp(-squared_euclidian_distances*q)\n",
    "    return K"
   ]
  },
  {
   "cell_type": "code",
   "execution_count": null,
   "id": "398141c4-81f2-44e3-9ce5-84b7696f8e78",
   "metadata": {},
   "outputs": [],
   "source": [
    "def compute_radius(x,test,beta,gram,q):\n",
    "    \"\"\"a function to compute the radius\n",
    "\n",
    "    \n",
    "    ---------------------------------\n",
    "    input : \n",
    "\n",
    "    x : array-like, \n",
    "    the original data we have\n",
    "\n",
    "    test : vector, array-like,\n",
    "    the point of which we want to determine the distance to the sphere\n",
    "\n",
    "    beta : array-like, \n",
    "    the coefficients that were determined before, according to the Wolfe Lagrangian\n",
    "\n",
    "    q : positive float,\n",
    "    the bandwidth of the kernel\n",
    "\n",
    "    output : \n",
    "    \n",
    "    r : float (positive)\n",
    "\n",
    "    the distance of the point to the center of the sphere\n",
    "    --------------------------------\n",
    "    \"\"\"\n",
    "    beta = beta.reshape(-1,1)\n",
    "    \n",
    "    first_term = 1\n",
    "    for_ker = x-test\n",
    "\n",
    "    second_term = np.exp(-q*np.linalg.norm(for_ker,axis=1))\n",
    "    second_term = beta*second_term\n",
    "    second_term = np.sum(second_term)\n",
    "    second_term *= -2\n",
    "\n",
    "    third_term = np.dot(beta.T,np.dot(gram,beta))\n",
    "\n",
    "    r = first_term + second_term + third_term\n",
    "    print(r)\n",
    "\n",
    "    return np.sqrt(r)"
   ]
  },
  {
   "cell_type": "code",
   "execution_count": null,
   "id": "380ad504-f205-47da-91f4-412c1533cfa4",
   "metadata": {},
   "outputs": [],
   "source": [
    "x_axis_a = np.linspace(-1.,0.8,n_samples,endpoint=True).reshape(-1,1)\n",
    "x_axis_b = np.linspace(-0.2,1,n_samples,endpoint=True).reshape(-1,1)\n",
    "\n",
    "cov_noise = np.eye(2)*0.005\n",
    "cov_noise[1,1] *= 25\n",
    "\n",
    "gaussian_noise = np.random.multivariate_normal(mean=np.zeros(2),cov=cov_noise, size=(n_samples))\n",
    "\n",
    "y_axis_a = (1-x_axis_a**2).reshape(-1,1)\n",
    "y_axis_b = (1-x_axis_b**2).reshape(-1,1)\n",
    "\n",
    "a_group = np.hstack((x_axis_a,-np.sqrt(y_axis_a)))\n",
    "b_group = np.hstack((x_axis_b,np.sqrt(y_axis_b)))\n",
    "\n",
    "unif_noise_a = np.random.uniform(low=-0.15,high=0.15,size=(n_samples,2))\n",
    "unif_noise_b = np.random.uniform(low=-0.15,high=0.15,size=(n_samples,2))\n",
    "\n",
    "a_group += unif_noise_a\n",
    "b_group += unif_noise_b\n"
   ]
  },
  {
   "cell_type": "code",
   "execution_count": null,
   "id": "99f827ac-ccc7-48b6-b263-a960ead7b20d",
   "metadata": {
    "scrolled": true
   },
   "outputs": [],
   "source": [
    "fig, ax = plt.subplots()\n",
    "ax.plot(a_group[:,0],a_group[:,1],'o',color='royalblue',alpha=0.7,label='group a')\n",
    "ax.plot(b_group[:,0],b_group[:,1],'o',color='salmon',alpha=0.7,label='group b')\n",
    "ax.plot(gaussian_noise[:,0], gaussian_noise[:,1],'o', color='forestgreen',alpha=0.7,label='noise')\n",
    "ax.grid(alpha=0.2)\n",
    "ax.legend()"
   ]
  },
  {
   "cell_type": "code",
   "execution_count": null,
   "id": "c34cb71d-f9ea-4012-a210-063c60d3e023",
   "metadata": {},
   "outputs": [],
   "source": [
    "whole_data = np.vstack((a_group,b_group,gaussian_noise))"
   ]
  },
  {
   "cell_type": "code",
   "execution_count": null,
   "id": "370e5d45-0123-45b5-8e49-e235d3c6627f",
   "metadata": {},
   "outputs": [],
   "source": [
    "kmeans_boundaries = KMeans(n_clusters=3).fit(X=whole_data)"
   ]
  },
  {
   "cell_type": "code",
   "execution_count": null,
   "id": "8f9bda10-6727-43a5-84b3-dbc6958885f3",
   "metadata": {},
   "outputs": [],
   "source": [
    "xx, yy = np.meshgrid(np.linspace(-1.2,1.2,200), np.linspace(-1.2,1.2,200))\n",
    "results_plot = np.empty(200**2)\n",
    "for i in tqdm(range(200**2)):\n",
    "    results_plot[i] = kmeans_boundaries.predict(np.c_[xx.ravel(), yy.ravel()][i,:].reshape(1,-1))[0]\n",
    "Z = results_plot\n",
    "Z = Z.reshape(xx.shape)"
   ]
  },
  {
   "cell_type": "code",
   "execution_count": null,
   "id": "27e7bb2b-bd9f-4a01-8bd0-c616f9ea4d2e",
   "metadata": {
    "scrolled": true
   },
   "outputs": [],
   "source": [
    "plt.contourf(xx, yy, Z, alpha=0.75, cmap=plt.cm.Pastel2)\n",
    "plt.plot(a_group[:,0],a_group[:,1],'o',color='royalblue',alpha=0.7,label='group a')\n",
    "plt.plot(b_group[:,0],b_group[:,1],'o',color='salmon',alpha=0.7,label='group b')\n",
    "plt.plot(gaussian_noise[:,0], gaussian_noise[:,1],'o', color='forestgreen',alpha=0.7,label='noise')\n",
    "plt.legend()\n",
    "plt.colorbar()\n",
    "plt.show()"
   ]
  },
  {
   "cell_type": "markdown",
   "id": "79f5ab7d-d285-4ce0-8f78-435999f2ba96",
   "metadata": {},
   "source": [
    "We have to find the solutions of the following Wolfe Lagrangian : \n",
    "\n",
    "$$W = \\sum_{j}K(x_j,x_j)\\beta_j - \\sum_{i,j}K(x_i,x_j)\\beta_i\\beta_j$$\n",
    "\n",
    "In order to use a quadratic solver, we have to rewrite a little bit the above problem. \n",
    "\n",
    "Let's denote by $K_{diag}$ the vector containing only the diagonal elements of the Gram matrix K. We denote by $\\beta$ the vector which has entries $\\{\\beta_i\\}_{i=1}^n$, moreover, we denote by $\\mathbb{1}$ the vector of lentgh $n$ containing only ones.\n",
    "\n",
    "Hence, we can rewrite the above dual as : \n",
    "\n",
    "$$ W = K_{diag}^T \\beta - \\beta^T K \\beta = \\mathbb{1} - \\beta^T K \\beta $$\n",
    "\n",
    "$$ \\text{s.t.} 0\\leq \\beta_j \\leq C $$\n",
    "$$ \\sum_j^n \\beta_j = 1 $$"
   ]
  },
  {
   "cell_type": "code",
   "execution_count": null,
   "id": "3e1fdc34-b3b5-4516-811b-73b3c5888cc1",
   "metadata": {},
   "outputs": [],
   "source": [
    "#to find an adequate q for the width of the kernel\n",
    "norms_q = np.linalg.norm(whole_data, axis=1)**2\n",
    "dot_q = whole_data@whole_data.T\n",
    "squared_euclidian_distances_q = norms_q[:, None] - 2 * dot_q + norms_q[None, :]"
   ]
  },
  {
   "cell_type": "code",
   "execution_count": null,
   "id": "f8fe94aa-dee7-4d48-9626-c879a1fe00a9",
   "metadata": {},
   "outputs": [],
   "source": [
    "bandwidth = 1/(np.max(squared_euclidian_distances_q))\n",
    "#gram_x = gram_mat(X=whole_data,q=bandwidth)\n",
    "gram_x = gram_mat(X=whole_data,q=48)"
   ]
  },
  {
   "cell_type": "code",
   "execution_count": null,
   "id": "cf1f2e99-4ea2-4203-aca2-1ebb2b9ea2fb",
   "metadata": {},
   "outputs": [],
   "source": [
    "beta = cp.Variable(n)\n",
    "gram_x += gram_x.T\n",
    "gram_x /= 2\n",
    "gram_x = cp.psd_wrap(gram_x)\n",
    "\n",
    "\n",
    "# Formulation de l'objectif\n",
    "objective = cp.Maximize(cp.sum(np.ones(n) @ beta) - cp.quad_form(beta, gram_x))\n",
    "\n",
    "# Contraintes\n",
    "constraints = [\n",
    "    beta >= 0,  # 0 <= beta_j\n",
    "    beta <= C,  # beta_j <= C\n",
    "    cp.sum(beta) == 1  # La somme des éléments de beta doit être égale à 1\n",
    "]\n",
    "\n",
    "# Définir le problème d'optimisation\n",
    "problem = cp.Problem(objective, constraints)\n",
    "\n",
    "# Résoudre le problème\n",
    "problem.solve()"
   ]
  },
  {
   "cell_type": "code",
   "execution_count": null,
   "id": "3d80122e-d780-4b9c-b2d4-add92bf58176",
   "metadata": {},
   "outputs": [],
   "source": [
    "true_beta = beta.value"
   ]
  },
  {
   "cell_type": "code",
   "execution_count": null,
   "id": "80292f53-736a-4b7d-99e4-64f9fbdce333",
   "metadata": {},
   "outputs": [],
   "source": [
    "index_of_sv = list(np.where(true_beta>1e-4)[0])"
   ]
  },
  {
   "cell_type": "code",
   "execution_count": null,
   "id": "63a83c08-5c54-4a64-ba30-b59ebf201f5b",
   "metadata": {},
   "outputs": [],
   "source": [
    "potential_sv = whole_data[index_of_sv,:]"
   ]
  },
  {
   "cell_type": "code",
   "execution_count": null,
   "id": "02ec680b-875f-4f4e-8e71-74e6ac446d20",
   "metadata": {
    "scrolled": true
   },
   "outputs": [],
   "source": [
    "fig, ax = plt.subplots()\n",
    "ax.plot(a_group[:,0],a_group[:,1],'o',color='royalblue',alpha=0.3,label='group a')\n",
    "ax.plot(b_group[:,0],b_group[:,1],'o',color='salmon',alpha=0.3,label='group b')\n",
    "ax.plot(gaussian_noise[:,0], gaussian_noise[:,1],'o', color='forestgreen',alpha=0.3,label='noise')\n",
    "ax.plot(potential_sv[:,0], potential_sv[:,1],'x',color='dodgerblue',label='potential sv')\n",
    "ax.grid(alpha=0.2)\n",
    "ax.legend()"
   ]
  },
  {
   "cell_type": "code",
   "execution_count": null,
   "id": "48689cbd-b9d8-47cc-8251-e7e14f0ca50f",
   "metadata": {},
   "outputs": [],
   "source": [
    "for i in range(n):\n",
    "    if true_beta[i] < 1e-10:\n",
    "        true_beta[i] = 0"
   ]
  },
  {
   "cell_type": "code",
   "execution_count": null,
   "id": "979b34bf-e73c-4aad-95fa-6cb250a0c76b",
   "metadata": {},
   "outputs": [],
   "source": [
    "del gram_x\n",
    "gram_x = gram_mat(X=whole_data,q=48)\n",
    "gram_x += gram_x.T\n",
    "gram_x /= 2\n",
    "r = []\n",
    "beta_k_beta = true_beta.T@gram_x@true_beta\n",
    "for i in potential_sv:\n",
    "    temp_K = np.zeros(n)\n",
    "    for elem in range(n):\n",
    "        temp_K[elem] = gaussian_ker(i,whole_data[elem,:],q=48)\n",
    "    r_xi = 1 - 2*np.dot(temp_K,true_beta) + beta_k_beta\n",
    "    r.append(r_xi)"
   ]
  },
  {
   "cell_type": "code",
   "execution_count": null,
   "id": "824647ed-b487-4313-b9d0-700b9ebbb949",
   "metadata": {},
   "outputs": [],
   "source": [
    "def compute_seg(x,y,nb):\n",
    "    \"\"\"\n",
    "    a function used to compute the segment between two points\n",
    "    -----------------------------------\n",
    "    Parameters : \n",
    "\n",
    "    x : array-like obj,\n",
    "    an input\n",
    "\n",
    "    y : array-like obj, \n",
    "    the second input\n",
    "\n",
    "    nb : int, \n",
    "    the number of points we want to have between the two points\n",
    "\n",
    "    Returns : \n",
    "\n",
    "    segment : array-like\n",
    "    an array of shape d (dimension of x), nb\n",
    "    ---------------------------------------\n",
    "    \"\"\"\n",
    "\n",
    "    coeff_dir = "
   ]
  }
 ],
 "metadata": {
  "kernelspec": {
   "display_name": "Python 3 (ipykernel)",
   "language": "python",
   "name": "python3"
  },
  "language_info": {
   "codemirror_mode": {
    "name": "ipython",
    "version": 3
   },
   "file_extension": ".py",
   "mimetype": "text/x-python",
   "name": "python",
   "nbconvert_exporter": "python",
   "pygments_lexer": "ipython3",
   "version": "3.12.7"
  }
 },
 "nbformat": 4,
 "nbformat_minor": 5
}
