{
 "cells": [
  {
   "cell_type": "code",
   "execution_count": 1,
   "metadata": {},
   "outputs": [],
   "source": [
    "%%capture\n",
    "import os\n",
    "import matplotlib.pyplot as plt\n",
    "from sklearn.datasets import load_iris\n",
    "from sklearn.cluster import KMeans\n",
    "from sklearn.decomposition import PCA\n",
    "import numpy as np\n",
    "! pip install cvxpy\n",
    "import cvxpy as cp\n",
    "from tqdm import tqdm\n",
    "import pandas as pd\n",
    "import networkx as nx\n",
    "from collections import Counter\n",
    "from sklearn.preprocessing import StandardScaler\n",
    "actual_path = os.getcwd()"
   ]
  },
  {
   "cell_type": "code",
   "execution_count": 2,
   "metadata": {},
   "outputs": [],
   "source": [
    "def gaussian_ker(x, y, q):\n",
    "    \"\"\"a function to compute the gaussian kernel of two points\n",
    "    -------------------------------\n",
    "    inputs : \n",
    "\n",
    "    x : array-like, vector\n",
    "    first vector for which we want to compute the kernel\n",
    "\n",
    "    y : array-like, vector\n",
    "    second vector for which we want to compute the kernel\n",
    "\n",
    "    q : positive float,\n",
    "    value of the bandwidth of the kernel\n",
    "\n",
    "    returns:\n",
    "    ker : float,\n",
    "    the value of the kernel\n",
    "    -------------------------------\n",
    "    \"\"\"\n",
    "\n",
    "    ker = np.exp(-q*np.linalg.norm(x-y)**2)\n",
    "    return ker"
   ]
  },
  {
   "cell_type": "code",
   "execution_count": 3,
   "metadata": {},
   "outputs": [],
   "source": [
    "def gram_mat(X, q):\n",
    "    \"\"\"\n",
    "    a function to compute the gram matrix of a given dataset\n",
    "\n",
    "    ----------------------------------------\n",
    "    inputs : \n",
    "    X : array-like object, must be 2D\n",
    "    the data for which we want to compute the gram matrix\n",
    "\n",
    "    q : positive float, \n",
    "    the bandwidth of the gaussian kernel\n",
    "    -----------------------------------------\n",
    "\n",
    "    returns:\n",
    "    K : the gram matrix\n",
    "    \"\"\"\n",
    "    \n",
    "    norms = np.linalg.norm(X, axis=1)**2\n",
    "    dot = X@X.T\n",
    "    squared_euclidian_distances = norms[:, None] - 2 * dot + norms[None, :]\n",
    "    K = np.exp(-squared_euclidian_distances*q)\n",
    "    return K"
   ]
  },
  {
   "cell_type": "code",
   "execution_count": 4,
   "metadata": {},
   "outputs": [],
   "source": [
    "def compute_seg(x, y, nb=20):\n",
    "    \"\"\"\n",
    "    a function used to compute the segment between two points\n",
    "    -----------------------------------\n",
    "    Parameters : \n",
    "\n",
    "    x : array-like obj,\n",
    "    an input, d>=2\n",
    "\n",
    "    y : array-like obj, \n",
    "    the second input\n",
    "\n",
    "    nb : int, \n",
    "    the number of points we want to have between the two points\n",
    "\n",
    "    Returns : \n",
    "\n",
    "    segment : array-like\n",
    "    an array of shape d (dimension of x), nb\n",
    "    ---------------------------------------\n",
    "    \"\"\"\n",
    "    d = x.shape[0]\n",
    "    segment = np.zeros((nb, d))\n",
    "    points = np.linspace(start=0., stop=1., num=nb, endpoint=True)\n",
    "    \n",
    "    for i in range(nb):\n",
    "        t = points[i]\n",
    "        segment[i, :] = (1-t) * x + t * y\n",
    "        \n",
    "    return segment"
   ]
  },
  {
   "cell_type": "code",
   "execution_count": 5,
   "metadata": {},
   "outputs": [],
   "source": [
    "def radius(x, sample, beta, bkb, q, ker_self=1.):\n",
    "    \"\"\"\n",
    "    compute the radius for a given instance x\n",
    "    -----------------------------------------------\n",
    "    Parameters : \n",
    "\n",
    "    x : 1-D vector,\n",
    "    the input vector\n",
    "\n",
    "    sample : matrix, \n",
    "    the whole sample, \n",
    "\n",
    "    beta : array-like, \n",
    "    the calculated beta\n",
    "\n",
    "    bkb : float,\n",
    "    the result of beta.T@K@beta\n",
    "\n",
    "    ker_self : float,\n",
    "    the value of the kernel of the selected instance with itself, \n",
    "    set to 1 by default as we use mostly the gaussian kernel\n",
    "\n",
    "    returns :\n",
    "\n",
    "    radius : float,\n",
    "    the distance between the test instance and the center of the \n",
    "    sphere enclosing all the points in the Hilbert space\n",
    "    -----------------------------------------------\n",
    "    \"\"\"\n",
    "    nb_samp = sample.shape[0]\n",
    "    temp_k = np.zeros(nb_samp)\n",
    "\n",
    "    for elem in range(nb_samp):\n",
    "        temp_k[elem] = gaussian_ker(x, sample[elem,:], q=q)\n",
    "        \n",
    "    return np.sqrt(ker_self - 2*np.dot(temp_k, beta) + bkb)"
   ]
  },
  {
   "cell_type": "code",
   "execution_count": 6,
   "metadata": {},
   "outputs": [],
   "source": [
    "actual_path = os.getcwd()\n",
    "os.chdir(f'{actual_path}/data')\n",
    "original_data = pd.read_csv('OnlineNewsPopularity.csv')\n",
    "os.chdir(actual_path)\n",
    "\n",
    "full_names = []\n",
    "for name in list(original_data.columns):\n",
    "    temp_name = name.split()\n",
    "    full_names.append(temp_name[0])\n",
    "\n",
    "original_data.columns = full_names\n",
    "\n",
    "original_data.columns\n",
    "\n",
    "original_data.drop(['url','timedelta'],axis=1,inplace=True)\n",
    "\n",
    "original_data['shares'].describe()\n",
    "n = original_data.shape[0]\n",
    "\n",
    "\n",
    "original_data['pop_cat'] = original_data['shares'].copy()\n",
    "data = original_data.copy()\n",
    "for i in range(n):\n",
    "    if data.loc[i,'shares'] < 946.:\n",
    "        data.loc[i,'pop_cat'] = 0\n",
    "    elif data.loc[i,'shares'] < 1400. :\n",
    "        data.loc[i,'pop_cat'] = 1\n",
    "    elif data.loc[i,'shares'] < 2800. :\n",
    "        data.loc[i,'pop_cat'] = 2\n",
    "    elif data.loc[i,'shares'] >= 2800. :\n",
    "        data.loc[i,'pop_cat'] = 3\n",
    "\n",
    "#we created categories depending on the quartiles of the data in order to try\n",
    "#to have a classification set up instead of a regression onne"
   ]
  },
  {
   "cell_type": "code",
   "execution_count": 7,
   "metadata": {},
   "outputs": [],
   "source": [
    "target = data['pop_cat'].copy()"
   ]
  },
  {
   "cell_type": "code",
   "execution_count": 8,
   "metadata": {},
   "outputs": [
    {
     "name": "stdout",
     "output_type": "stream",
     "text": [
      "part of variance explained by every component : [0.08132705 0.06788542 0.06098941 0.05087395 0.04611231 0.04352561\n",
      " 0.0411103 ]\n",
      "total variance explained : 0.39182406118988544\n"
     ]
    }
   ],
   "source": [
    "#we center the data for the pca (as done in the article)\n",
    "scaler = StandardScaler()\n",
    "data_scaled = scaler.fit_transform(data.drop('pop_cat', axis=1))\n",
    "\n",
    "\n",
    "n_components = 7 \n",
    "pca = PCA(n_components=n_components)\n",
    "\n",
    "principal_components = pca.fit_transform(data_scaled)\n",
    "columns = [f\"PC{i+1}\" for i in range(n_components)]\n",
    "principal_df = pd.DataFrame(data=principal_components, columns=columns)\n",
    "\n",
    "\n",
    "print(\"part of variance explained by every component :\", pca.explained_variance_ratio_)\n",
    "\n",
    "\n",
    "print(\"total variance explained :\", np.sum(pca.explained_variance_ratio_))\n",
    "\n",
    "d = principal_df.shape[1]\n",
    "principal_df = np.hstack((principal_df,target.to_numpy().reshape(-1,1)))\n",
    "principal_df_whole = principal_df.copy()\n",
    "principal_df = pd.DataFrame(principal_df)"
   ]
  },
  {
   "cell_type": "code",
   "execution_count": 9,
   "metadata": {},
   "outputs": [
    {
     "name": "stdout",
     "output_type": "stream",
     "text": [
      "(397, 8)\n"
     ]
    },
    {
     "name": "stderr",
     "output_type": "stream",
     "text": [
      "/tmp/ipykernel_8370/1550396598.py:7: DeprecationWarning: DataFrameGroupBy.apply operated on the grouping columns. This behavior is deprecated, and in a future version of pandas the grouping columns will be excluded from the operation. Either pass `include_groups=False` to exclude the groupings or explicitly select the grouping columns after groupby to silence this warning.\n",
      "  principal_df = principal_df.groupby('target', group_keys=False).apply(lambda x: x.sample(frac=0.01,random_state=87876899))\n"
     ]
    }
   ],
   "source": [
    "#we rename the columns (more of a commidity than a necessity)\n",
    "colnames = []\n",
    "for i in range(7):\n",
    "    colnames.append(f'pc_{i}')\n",
    "colnames.append('target')\n",
    "principal_df.columns = colnames\n",
    "principal_df = principal_df.groupby('target', group_keys=False).apply(lambda x: x.sample(frac=0.01,random_state=87876899))\n",
    "target = principal_df['target'].copy()\n",
    "n = principal_df.shape[0]\n",
    "#we subsample a lot because otherwise our code doesn't run"
   ]
  },
  {
   "cell_type": "code",
   "execution_count": 10,
   "metadata": {},
   "outputs": [],
   "source": [
    "principal_df.drop('target',axis=1,inplace=True)"
   ]
  },
  {
   "cell_type": "code",
   "execution_count": 11,
   "metadata": {},
   "outputs": [
    {
     "data": {
      "image/png": "[encoded data removed]",
      "text/plain": [
       "<Figure size 640x480 with 1 Axes>"
      ]
     },
     "metadata": {},
     "output_type": "display_data"
    }
   ],
   "source": [
    "#a quick plot to see to what extent does the pca contributes to the possibility of \n",
    "#separation of the data (here on the first two components) \n",
    "plt.scatter(principal_df.iloc[:, 0], - principal_df.iloc[:, 1], marker='x', color='blue', s=20, linewidths=0.5)\n",
    "plt.show()"
   ]
  },
  {
   "cell_type": "code",
   "execution_count": 12,
   "metadata": {},
   "outputs": [],
   "source": [
    "# Hyperparameters of the SVC procedure\n",
    "N = n\n",
    "q = 0.01\n",
    "p = 0.5\n",
    "C = 1/(n*p)"
   ]
  },
  {
   "cell_type": "code",
   "execution_count": 13,
   "metadata": {},
   "outputs": [],
   "source": [
    "gram_x = gram_mat(X=principal_df, q=q)"
   ]
  },
  {
   "cell_type": "code",
   "execution_count": 14,
   "metadata": {},
   "outputs": [
    {
     "data": {
      "text/plain": [
       "np.float64(0.3703262571086876)"
      ]
     },
     "execution_count": 14,
     "metadata": {},
     "output_type": "execute_result"
    }
   ],
   "source": [
    "n = len(principal_df)\n",
    "beta = cp.Variable(n)\n",
    "gram_x += gram_x.T\n",
    "gram_x /= 2\n",
    "gram_x = cp.psd_wrap(gram_x)\n",
    "\n",
    "\n",
    "objective = cp.Maximize(cp.sum(np.ones(n) @ beta) - cp.quad_form(beta, gram_x))\n",
    "\n",
    "\n",
    "constraints = [\n",
    "    beta >= 0,  # 0 <= beta_j\n",
    "    beta <= C,  # beta_j <= C\n",
    "    cp.sum(beta) == 1  # sum equal to 1\n",
    "]\n",
    "\n",
    "\n",
    "problem = cp.Problem(objective, constraints)\n",
    "\n",
    "\n",
    "problem.solve(solver='CLARABEL')"
   ]
  },
  {
   "cell_type": "code",
   "execution_count": 15,
   "metadata": {},
   "outputs": [],
   "source": [
    "true_beta = beta.value\n",
    "beta_k_beta = true_beta.T @ gram_x @ true_beta"
   ]
  },
  {
   "cell_type": "code",
   "execution_count": 16,
   "metadata": {},
   "outputs": [
    {
     "name": "stdout",
     "output_type": "stream",
     "text": [
      "index of sv [2, 4, 5, 6, 17, 20, 23, 29, 31, 34, 37, 42, 43, 44, 45, 47, 48, 50, 54, 55, 56, 60, 61, 63, 64, 65, 68, 70, 74, 75, 79, 81, 82, 85, 89, 90, 91, 99, 102, 105, 106, 107, 113, 118, 119, 121, 131, 134, 137, 138, 139, 143, 144, 149, 150, 154, 155, 156, 157, 160, 162, 164, 166, 167, 168, 169, 170, 171, 172, 175, 178, 179, 180, 183, 184, 185, 187, 189, 190, 194, 195, 197, 203, 204, 206, 209, 210, 212, 215, 216, 222, 223, 227, 230, 233, 235, 239, 243, 244, 245, 248, 250, 251, 252, 255, 256, 257, 261, 267, 268, 269, 270, 272, 274, 275, 276, 277, 283, 284, 285, 286, 288, 291, 292, 293, 295, 297, 298, 300, 301, 304, 305, 308, 313, 315, 319, 321, 323, 326, 328, 334, 335, 337, 346, 348, 351, 352, 353, 359, 360, 361, 362, 363, 366, 367, 368, 369, 371, 372, 373, 374, 375, 376, 377, 380, 382, 385, 386, 394, 395]\n",
      "number of sv 170\n",
      "index of bsv [1, 8, 12, 14, 15, 28, 39, 40, 49, 57, 58, 59, 62, 72, 86, 87, 96, 108, 111, 112, 116, 123, 124, 130, 133, 140, 141, 152, 158, 161, 188, 191, 218, 220, 221, 228, 229, 237, 238, 249, 253, 260, 263, 266, 279, 281, 282, 289, 294, 303, 307, 316, 320, 324, 327, 333, 336, 345, 355, 356, 358, 370, 388, 391]\n",
      "number of bsv 64\n"
     ]
    }
   ],
   "source": [
    "index_of_sv = []\n",
    "index_of_bsv = []\n",
    "N = principal_df.shape[0]\n",
    "for i in range(N):\n",
    "    if 1e-10 < true_beta[i] and true_beta[i] < C:\n",
    "        index_of_sv.append(i)\n",
    "    elif true_beta[i] >= C - 1e-3:\n",
    "        index_of_bsv.append(i)\n",
    "\n",
    "print('index of sv', index_of_sv)\n",
    "print('number of sv', len(index_of_sv))\n",
    "print('index of bsv', index_of_bsv)\n",
    "print('number of bsv', len(index_of_bsv))"
   ]
  },
  {
   "cell_type": "code",
   "execution_count": 17,
   "metadata": {},
   "outputs": [],
   "source": [
    "potential_sv = principal_df.iloc[index_of_sv, :].to_numpy()"
   ]
  },
  {
   "cell_type": "code",
   "execution_count": 18,
   "metadata": {},
   "outputs": [],
   "source": [
    "gram_x = gram_mat(X=principal_df, q=q)\n",
    "gram_x += gram_x.T\n",
    "gram_x /= 2\n",
    "r = []\n",
    "beta_k_beta = true_beta.T @ gram_x @ true_beta\n",
    "for point_sv in potential_sv:\n",
    "    temp_K = np.zeros(N)\n",
    "    for elem in range(N):\n",
    "        temp_K[elem] = gaussian_ker(point_sv, principal_df.iloc[elem, :], q=q)\n",
    "    r_xi = np.sqrt(1 - 2 * np.dot(temp_K, true_beta) + beta_k_beta)\n",
    "    r.append(r_xi)\n",
    "rad = np.mean(r)"
   ]
  },
  {
   "cell_type": "code",
   "execution_count": 19,
   "metadata": {},
   "outputs": [
    {
     "name": "stderr",
     "output_type": "stream",
     "text": [
      "100%|██████████| 397/397 [32:41<00:00,  4.94s/it]\n"
     ]
    }
   ],
   "source": [
    "n = principal_df.shape[0]\n",
    "adjacency_mat = np.zeros((n, n))\n",
    "\n",
    "for i in tqdm(range(n)):\n",
    "    for j in range(i+1, n):\n",
    "        decision = True\n",
    "        segment = compute_seg(x=principal_df.to_numpy()[i,:], y=principal_df.to_numpy()[j,:])\n",
    "        list_of_val = []\n",
    "        for point in segment:\n",
    "            dist = radius(x=point, beta=true_beta, bkb=beta_k_beta, sample=principal_df.to_numpy(), q=q)\n",
    "            list_of_val.append(dist)\n",
    "        for value in list_of_val:\n",
    "            if value > rad:\n",
    "                decision = False\n",
    "        \n",
    "        if decision == True:\n",
    "            adjacency_mat[i, j] = 1\n",
    "\n",
    "adjacency_mat = adjacency_mat + adjacency_mat.T\n",
    "adjacency_mat /= 2\n",
    "for i in range(n):\n",
    "    adjacency_mat[i,i] = 0"
   ]
  },
  {
   "cell_type": "code",
   "execution_count": 20,
   "metadata": {},
   "outputs": [
    {
     "name": "stdout",
     "output_type": "stream",
     "text": [
      "number of clusters detected 142\n"
     ]
    }
   ],
   "source": [
    "G = nx.from_numpy_array(adjacency_mat)\n",
    "\n",
    "clusters = list(nx.connected_components(G))\n",
    "print('number of clusters detected', len(clusters))"
   ]
  },
  {
   "cell_type": "code",
   "execution_count": 21,
   "metadata": {
    "scrolled": true
   },
   "outputs": [
    {
     "name": "stdout",
     "output_type": "stream",
     "text": [
      "largest cluster: 256\n",
      "size of cluster 1: 256\n",
      "size of cluster 2: 1\n",
      "size of cluster 3: 1\n",
      "size of cluster 4: 1\n",
      "size of cluster 5: 1\n",
      "size of cluster 6: 1\n",
      "size of cluster 7: 1\n",
      "size of cluster 8: 1\n",
      "size of cluster 9: 1\n",
      "size of cluster 10: 1\n",
      "size of cluster 11: 1\n",
      "size of cluster 12: 1\n",
      "size of cluster 13: 1\n",
      "size of cluster 14: 1\n",
      "size of cluster 15: 1\n",
      "size of cluster 16: 1\n",
      "size of cluster 17: 1\n",
      "size of cluster 18: 1\n",
      "size of cluster 19: 1\n",
      "size of cluster 20: 1\n",
      "size of cluster 21: 1\n",
      "size of cluster 22: 1\n",
      "size of cluster 23: 1\n",
      "size of cluster 24: 1\n",
      "size of cluster 25: 1\n",
      "size of cluster 26: 1\n",
      "size of cluster 27: 1\n",
      "size of cluster 28: 1\n",
      "size of cluster 29: 1\n",
      "size of cluster 30: 1\n",
      "size of cluster 31: 1\n",
      "size of cluster 32: 1\n",
      "size of cluster 33: 1\n",
      "size of cluster 34: 1\n",
      "size of cluster 35: 1\n",
      "size of cluster 36: 1\n",
      "size of cluster 37: 1\n",
      "size of cluster 38: 1\n",
      "size of cluster 39: 1\n",
      "size of cluster 40: 1\n",
      "size of cluster 41: 1\n",
      "size of cluster 42: 1\n",
      "size of cluster 43: 1\n",
      "size of cluster 44: 1\n",
      "size of cluster 45: 1\n",
      "size of cluster 46: 1\n",
      "size of cluster 47: 1\n",
      "size of cluster 48: 1\n",
      "size of cluster 49: 1\n",
      "size of cluster 50: 1\n",
      "size of cluster 51: 1\n",
      "size of cluster 52: 1\n",
      "size of cluster 53: 1\n",
      "size of cluster 54: 1\n",
      "size of cluster 55: 1\n",
      "size of cluster 56: 1\n",
      "size of cluster 57: 1\n",
      "size of cluster 58: 1\n",
      "size of cluster 59: 1\n",
      "size of cluster 60: 1\n",
      "size of cluster 61: 1\n",
      "size of cluster 62: 1\n",
      "size of cluster 63: 1\n",
      "size of cluster 64: 1\n",
      "size of cluster 65: 1\n",
      "size of cluster 66: 1\n",
      "size of cluster 67: 1\n",
      "size of cluster 68: 1\n",
      "size of cluster 69: 1\n",
      "size of cluster 70: 1\n",
      "size of cluster 71: 1\n",
      "size of cluster 72: 1\n",
      "size of cluster 73: 1\n",
      "size of cluster 74: 1\n",
      "size of cluster 75: 1\n",
      "size of cluster 76: 1\n",
      "size of cluster 77: 1\n",
      "size of cluster 78: 1\n",
      "size of cluster 79: 1\n",
      "size of cluster 80: 1\n",
      "size of cluster 81: 1\n",
      "size of cluster 82: 1\n",
      "size of cluster 83: 1\n",
      "size of cluster 84: 1\n",
      "size of cluster 85: 1\n",
      "size of cluster 86: 1\n",
      "size of cluster 87: 1\n",
      "size of cluster 88: 1\n",
      "size of cluster 89: 1\n",
      "size of cluster 90: 1\n",
      "size of cluster 91: 1\n",
      "size of cluster 92: 1\n",
      "size of cluster 93: 1\n",
      "size of cluster 94: 1\n",
      "size of cluster 95: 1\n",
      "size of cluster 96: 1\n",
      "size of cluster 97: 1\n",
      "size of cluster 98: 1\n",
      "size of cluster 99: 1\n",
      "size of cluster 100: 1\n",
      "size of cluster 101: 1\n",
      "size of cluster 102: 1\n",
      "size of cluster 103: 1\n",
      "size of cluster 104: 1\n",
      "size of cluster 105: 1\n",
      "size of cluster 106: 1\n",
      "size of cluster 107: 1\n",
      "size of cluster 108: 1\n",
      "size of cluster 109: 1\n",
      "size of cluster 110: 1\n",
      "size of cluster 111: 1\n",
      "size of cluster 112: 1\n",
      "size of cluster 113: 1\n",
      "size of cluster 114: 1\n",
      "size of cluster 115: 1\n",
      "size of cluster 116: 1\n",
      "size of cluster 117: 1\n",
      "size of cluster 118: 1\n",
      "size of cluster 119: 1\n",
      "size of cluster 120: 1\n",
      "size of cluster 121: 1\n",
      "size of cluster 122: 1\n",
      "size of cluster 123: 1\n",
      "size of cluster 124: 1\n",
      "size of cluster 125: 1\n",
      "size of cluster 126: 1\n",
      "size of cluster 127: 1\n",
      "size of cluster 128: 1\n",
      "size of cluster 129: 1\n",
      "size of cluster 130: 1\n",
      "size of cluster 131: 1\n",
      "size of cluster 132: 1\n",
      "size of cluster 133: 1\n",
      "size of cluster 134: 1\n",
      "size of cluster 135: 1\n",
      "size of cluster 136: 1\n",
      "size of cluster 137: 1\n",
      "size of cluster 138: 1\n",
      "size of cluster 139: 1\n",
      "size of cluster 140: 1\n",
      "size of cluster 141: 1\n",
      "size of cluster 142: 1\n"
     ]
    }
   ],
   "source": [
    "\n",
    "sorted_clusters = sorted(clusters, key=len, reverse=True)\n",
    "print(f\"largest cluster: {len(sorted_clusters[0])}\")\n",
    "\n",
    "#a quick preview of how we are doing\n",
    "top_5_clusters = sorted_clusters\n",
    "for i, cluster in enumerate(top_5_clusters, start=1):\n",
    "    print(f\"size of cluster {i}: {len(cluster)}\")\n"
   ]
  },
  {
   "cell_type": "code",
   "execution_count": 22,
   "metadata": {},
   "outputs": [
    {
     "name": "stdout",
     "output_type": "stream",
     "text": [
      "total number of missclassification: 187\n"
     ]
    }
   ],
   "source": [
    "#cluster labelling\n",
    "misclassified_count = 0\n",
    "for cluster in clusters:\n",
    "\n",
    "    if len(cluster) > 1:\n",
    "\n",
    "        cluster_labels = [target.to_numpy()[i] for i in cluster]\n",
    "        majority_label = Counter(cluster_labels).most_common(1)[0][0]\n",
    "        for i in cluster:\n",
    "            if target.to_numpy()[i] != majority_label:\n",
    "                misclassified_count += 1\n",
    "\n",
    "print(f\"total number of missclassification: {misclassified_count}\")\n"
   ]
  },
  {
   "cell_type": "code",
   "execution_count": null,
   "metadata": {},
   "outputs": [],
   "source": []
  }
 ],
 "metadata": {
  "kernelspec": {
   "display_name": "Python 3 (ipykernel)",
   "language": "python",
   "name": "python3"
  },
  "language_info": {
   "codemirror_mode": {
    "name": "ipython",
    "version": 3
   },
   "file_extension": ".py",
   "mimetype": "text/x-python",
   "name": "python",
   "nbconvert_exporter": "python",
   "pygments_lexer": "ipython3",
   "version": "3.12.7"
  }
 },
 "nbformat": 4,
 "nbformat_minor": 4
}
