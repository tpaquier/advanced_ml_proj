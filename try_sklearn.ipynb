{
 "cells": [
  {
   "cell_type": "code",
   "execution_count": null,
   "id": "f6b31078-c82b-4770-8b67-54e885af438f",
   "metadata": {},
   "outputs": [],
   "source": [
    "import os\n",
    "from sklearn.svm import OneClassSVM\n",
    "from sklearn.preprocessing import StandardScaler\n",
    "from sklearn.decomposition import PCA\n",
    "import numpy as np\n",
    "import pandas as pd\n",
    "import matplotlib.pyplot as plt\n",
    "from tqdm import tqdm\n",
    "import networkx as nx"
   ]
  },
  {
   "cell_type": "code",
   "execution_count": null,
   "id": "9ef89e64-50e5-42e7-8c05-fcf6b6c07ced",
   "metadata": {},
   "outputs": [],
   "source": [
    "def compute_seg(x, y, nb=20):\n",
    "    \"\"\"\n",
    "    a function used to compute the segment between two points\n",
    "    -----------------------------------\n",
    "    Parameters : \n",
    "\n",
    "    x : array-like obj,\n",
    "    an input, d>=2\n",
    "\n",
    "    y : array-like obj, \n",
    "    the second input\n",
    "\n",
    "    nb : int, \n",
    "    the number of points we want to have between the two points\n",
    "\n",
    "    Returns : \n",
    "\n",
    "    segment : array-like\n",
    "    an array of shape d (dimension of x), nb\n",
    "    ---------------------------------------\n",
    "    \"\"\"\n",
    "    d = x.shape[0]\n",
    "    segment = np.zeros((nb, d))\n",
    "    points = np.linspace(start=0., stop=1., num=nb, endpoint=True)\n",
    "    \n",
    "    for i in range(nb):\n",
    "        t = points[i]\n",
    "        segment[i, :] = (1-t) * x + t * y\n",
    "        \n",
    "    return segment"
   ]
  },
  {
   "cell_type": "code",
   "execution_count": null,
   "id": "1dee6d1c-9ae1-4367-b68f-3b58c49b0ee1",
   "metadata": {},
   "outputs": [],
   "source": [
    "n_samples = 80\n",
    "n = 3*n_samples\n",
    "C = 1"
   ]
  },
  {
   "cell_type": "code",
   "execution_count": null,
   "id": "e8d6ba63-5828-4223-85b1-cf98ab7d2f7f",
   "metadata": {},
   "outputs": [],
   "source": [
    "x_axis_a = np.linspace(-1.,0.8,n_samples,endpoint=True).reshape(-1,1)\n",
    "x_axis_b = np.linspace(-0.2,1,n_samples,endpoint=True).reshape(-1,1)\n",
    "\n",
    "cov_noise = np.eye(2)*0.005\n",
    "cov_noise[1,1] *= 25\n",
    "\n",
    "gaussian_noise = np.random.multivariate_normal(mean=np.zeros(2),cov=cov_noise, size=(n_samples))\n",
    "\n",
    "y_axis_a = (1-x_axis_a**2).reshape(-1,1)\n",
    "y_axis_b = (1-x_axis_b**2).reshape(-1,1)\n",
    "\n",
    "a_group = np.hstack((x_axis_a,-np.sqrt(y_axis_a)))\n",
    "b_group = np.hstack((x_axis_b,np.sqrt(y_axis_b)))\n",
    "\n",
    "unif_noise_a = np.random.uniform(low=-0.15,high=0.15,size=(n_samples,2))\n",
    "unif_noise_b = np.random.uniform(low=-0.15,high=0.15,size=(n_samples,2))\n",
    "\n",
    "a_group += unif_noise_a\n",
    "b_group += unif_noise_b"
   ]
  },
  {
   "cell_type": "code",
   "execution_count": null,
   "id": "776c57aa-6e79-433c-bd66-58664a82ce1b",
   "metadata": {},
   "outputs": [],
   "source": [
    "fig, ax = plt.subplots()\n",
    "ax.plot(a_group[:,0],a_group[:,1],'o',color='royalblue',alpha=0.7,label='group a')\n",
    "ax.plot(b_group[:,0],b_group[:,1],'o',color='salmon',alpha=0.7,label='group b')\n",
    "ax.plot(gaussian_noise[:,0], gaussian_noise[:,1],'o', color='forestgreen',alpha=0.7,label='group c')\n",
    "ax.grid(alpha=0.2)\n",
    "ax.legend()"
   ]
  },
  {
   "cell_type": "code",
   "execution_count": null,
   "id": "c6fab4cf-d6c8-41b6-9f06-deb584e5e263",
   "metadata": {},
   "outputs": [],
   "source": [
    "whole_data = np.vstack((a_group,b_group,gaussian_noise))"
   ]
  },
  {
   "cell_type": "code",
   "execution_count": null,
   "id": "bd1d550b-9944-45ff-b894-5e5678c6730e",
   "metadata": {},
   "outputs": [],
   "source": [
    "clf = OneClassSVM(gamma=48).fit(whole_data)\n",
    "\n",
    "adj_mat = np.zeros((n,n))\n",
    "\n",
    "for i in tqdm(range(n)):\n",
    "    for j in range(i,n):\n",
    "        segment = compute_seg(x=whole_data[i,:],y=whole_data[j,:])\n",
    "        pred_temp = clf.predict(segment)\n",
    "        if -1 in pred_temp:\n",
    "            adj_mat[i,j] = 0\n",
    "        else:\n",
    "            adj_mat[i,j] = 1\n",
    "adj_mat = adj_mat + adj_mat.T\n",
    "for i in range(n):\n",
    "    adj_mat[i,i] = 0\n",
    "\n",
    "G = nx.from_numpy_array(adj_mat)\n",
    "\n",
    "clusters = list(nx.connected_components(G))\n",
    "print('number of clusters detected', len(clusters))\n",
    "\n",
    "sorted_clusters = sorted(clusters, key=len, reverse=True)\n",
    "print(f\"largest cluster: {len(sorted_clusters[0])}\")\n",
    "\n",
    "#a quick preview of how we are doing\n",
    "top_5_clusters = sorted_clusters[:5]\n",
    "for i, cluster in enumerate(top_5_clusters, start=1):\n",
    "    print(f\"size of cluster {i}: {len(cluster)}\")"
   ]
  },
  {
   "cell_type": "code",
   "execution_count": null,
   "id": "27b2e124-79f5-48e7-937b-7be2dee39362",
   "metadata": {},
   "outputs": [],
   "source": [
    "xx, yy = np.meshgrid(np.linspace(-1.5,1.5,200), np.linspace(-1.5,1.5,200))\n",
    "results_plot = np.empty(200**2)\n",
    "for i in tqdm(range(200**2)):\n",
    "    results_plot[i] = clf.decision_function(np.c_[xx.ravel(), yy.ravel()][i,:].reshape(1,-1))[0]\n",
    "Z = results_plot\n",
    "Z = Z.reshape(xx.shape)"
   ]
  },
  {
   "cell_type": "code",
   "execution_count": null,
   "id": "105d6c43-ac93-49e4-85a9-b3ef451e3d3e",
   "metadata": {},
   "outputs": [],
   "source": [
    "plt.contourf(xx, yy, Z, alpha=0.75, cmap=plt.cm.Pastel2)\n",
    "plt.plot(a_group[:,0],a_group[:,1],'o',color='royalblue',alpha=0.7,label='group a')\n",
    "plt.plot(b_group[:,0],b_group[:,1],'o',color='salmon',alpha=0.7,label='group b')\n",
    "plt.plot(gaussian_noise[:,0], gaussian_noise[:,1],'o', color='forestgreen',alpha=0.7,label='group c')\n",
    "plt.legend()\n",
    "plt.colorbar()\n",
    "plt.show()"
   ]
  },
  {
   "cell_type": "code",
   "execution_count": null,
   "id": "2235bf95-3651-48e0-88f9-082ad32b31ea",
   "metadata": {},
   "outputs": [],
   "source": []
  },
  {
   "cell_type": "code",
   "execution_count": null,
   "id": "55077873-9566-44f3-ada2-135cbe48ad09",
   "metadata": {},
   "outputs": [],
   "source": []
  },
  {
   "cell_type": "code",
   "execution_count": null,
   "id": "51ed6c75-683b-4ed5-bd83-46fc9c6e38c5",
   "metadata": {},
   "outputs": [],
   "source": [
    "actual_path = os.getcwd()\n",
    "os.chdir('/home/onyxia/work/advanced_ml_proj/data')\n",
    "original_data = pd.read_csv('OnlineNewsPopularity.csv')\n",
    "os.chdir(actual_path)\n",
    "\n",
    "full_names = []\n",
    "for name in list(original_data.columns):\n",
    "    temp_name = name.split()\n",
    "    full_names.append(temp_name[0])\n",
    "\n",
    "original_data.columns = full_names\n",
    "\n",
    "original_data.columns\n",
    "\n",
    "original_data.drop(['url','timedelta'],axis=1,inplace=True)\n",
    "\n",
    "original_data['shares'].describe()\n",
    "n = original_data.shape[0]\n",
    "\n",
    "\n",
    "original_data['pop_cat'] = original_data['shares'].copy()\n",
    "data = original_data.copy()\n",
    "for i in range(n):\n",
    "    if data.loc[i,'shares'] < 946.:\n",
    "        data.loc[i,'pop_cat'] = 0\n",
    "    elif data.loc[i,'shares'] < 1400. :\n",
    "        data.loc[i,'pop_cat'] = 1\n",
    "    elif data.loc[i,'shares'] < 2800. :\n",
    "        data.loc[i,'pop_cat'] = 2\n",
    "    elif data.loc[i,'shares'] >= 2800. :\n",
    "        data.loc[i,'pop_cat'] = 3\n",
    "data = data[data['pop_cat'].isin([0,3])]"
   ]
  },
  {
   "cell_type": "code",
   "execution_count": null,
   "id": "5f2e1a35-3389-4fdd-a236-ebbc117c3037",
   "metadata": {},
   "outputs": [],
   "source": []
  },
  {
   "cell_type": "code",
   "execution_count": null,
   "id": "f9a17dd7-e3e5-4424-adcc-b316d249d017",
   "metadata": {},
   "outputs": [],
   "source": [
    "target = data['pop_cat'].copy()"
   ]
  },
  {
   "cell_type": "code",
   "execution_count": null,
   "id": "293ade4c-40de-45d3-97c1-8985dcfffb9f",
   "metadata": {},
   "outputs": [],
   "source": [
    "#we center the data for the pca (as done in the article)\n",
    "scaler = StandardScaler()\n",
    "data_scaled = scaler.fit_transform(data.drop('pop_cat', axis=1))\n",
    "\n",
    "\n",
    "n_components = 4\n",
    "pca = PCA(n_components=n_components)\n",
    "\n",
    "principal_components = pca.fit_transform(data_scaled)\n",
    "columns = [f\"PC{i+1}\" for i in range(n_components)]\n",
    "principal_df = pd.DataFrame(data=principal_components, columns=columns)\n",
    "\n",
    "\n",
    "print(\"part of variance explained by every component :\", pca.explained_variance_ratio_)\n",
    "\n",
    "\n",
    "print(\"total variance explained :\", np.sum(pca.explained_variance_ratio_))\n",
    "\n",
    "d = principal_df.shape[1]\n",
    "principal_df = np.hstack((principal_df,target.to_numpy().reshape(-1,1)))\n",
    "principal_df_whole = principal_df.copy()\n",
    "principal_df = pd.DataFrame(principal_df)"
   ]
  },
  {
   "cell_type": "code",
   "execution_count": null,
   "id": "6de33c5c-6521-4695-a807-c0e76c2e5c3d",
   "metadata": {},
   "outputs": [],
   "source": [
    "#we rename the columns (more of a commidity than a necessity)\n",
    "colnames = []\n",
    "for i in range(4):\n",
    "    colnames.append(f'pc_{i}')\n",
    "colnames.append('target')\n",
    "principal_df.columns = colnames\n",
    "principal_df = principal_df.groupby('target', group_keys=False).apply(lambda x: x.sample(frac=0.05,random_state=87876899))\n",
    "target = principal_df['target'].copy()\n",
    "print(principal_df.shape)\n",
    "n = principal_df.shape[0]"
   ]
  },
  {
   "cell_type": "code",
   "execution_count": null,
   "id": "139f9f79-8006-4682-8ff9-60ac7e8029fb",
   "metadata": {},
   "outputs": [],
   "source": [
    "principal_df.drop('target',axis=1,inplace=True)"
   ]
  },
  {
   "cell_type": "code",
   "execution_count": null,
   "id": "c5535046-5334-4757-9464-9e851b331150",
   "metadata": {},
   "outputs": [],
   "source": []
  },
  {
   "cell_type": "code",
   "execution_count": null,
   "id": "555326aa-4caa-46e3-baaa-4ffe33f14905",
   "metadata": {},
   "outputs": [],
   "source": [
    "clf = OneClassSVM(gamma=0.03,nu=0.05)\n",
    "clf.fit(principal_df.to_numpy())"
   ]
  },
  {
   "cell_type": "code",
   "execution_count": null,
   "id": "d0b1ff37-1846-45a1-9c40-619bda29899c",
   "metadata": {},
   "outputs": [],
   "source": [
    "adj_mat = np.zeros((n,n))\n",
    "pdfnp = principal_df.to_numpy()\n",
    "\n",
    "for i in tqdm(range(n)):\n",
    "    for j in range(i,n):\n",
    "        segment = compute_seg(x=pdfnp[i,:],y=pdfnp[j,:])\n",
    "        pred_temp = clf.predict(segment)\n",
    "        if -1 in pred_temp:\n",
    "            adj_mat[i,j] = 0\n",
    "        else:\n",
    "            adj_mat[i,j] = 1"
   ]
  },
  {
   "cell_type": "code",
   "execution_count": null,
   "id": "f3f03c5f-d5b3-473f-be51-5e92c175f6ed",
   "metadata": {},
   "outputs": [],
   "source": [
    "adj_mat = adj_mat + adj_mat.T\n",
    "for i in range(n):\n",
    "    adj_mat[i,i] = 0"
   ]
  },
  {
   "cell_type": "code",
   "execution_count": null,
   "id": "5947d43d-d3cc-49a8-bd6c-121c4ac03299",
   "metadata": {},
   "outputs": [],
   "source": [
    "G = nx.from_numpy_array(adj_mat)\n",
    "\n",
    "clusters = list(nx.connected_components(G))\n",
    "print('number of clusters detected', len(clusters))"
   ]
  },
  {
   "cell_type": "code",
   "execution_count": null,
   "id": "e9b84207-54a3-4668-a548-cbeaf9bbfc2a",
   "metadata": {},
   "outputs": [],
   "source": [
    "sorted_clusters = sorted(clusters, key=len, reverse=True)\n",
    "print(f\"largest cluster: {len(sorted_clusters[0])}\")\n",
    "\n",
    "#a quick preview of how we are doing\n",
    "top_5_clusters = sorted_clusters[:5]\n",
    "for i, cluster in enumerate(top_5_clusters, start=1):\n",
    "    print(f\"size of cluster {i}: {len(cluster)}\")"
   ]
  },
  {
   "cell_type": "code",
   "execution_count": null,
   "id": "548cef88-117b-4a13-a834-de2dc3445c22",
   "metadata": {},
   "outputs": [],
   "source": []
  }
 ],
 "metadata": {
  "kernelspec": {
   "display_name": "Python 3 (ipykernel)",
   "language": "python",
   "name": "python3"
  },
  "language_info": {
   "codemirror_mode": {
    "name": "ipython",
    "version": 3
   },
   "file_extension": ".py",
   "mimetype": "text/x-python",
   "name": "python",
   "nbconvert_exporter": "python",
   "pygments_lexer": "ipython3",
   "version": "3.12.7"
  }
 },
 "nbformat": 4,
 "nbformat_minor": 5
}
